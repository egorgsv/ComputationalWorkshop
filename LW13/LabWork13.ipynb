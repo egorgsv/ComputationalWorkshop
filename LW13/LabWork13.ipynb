{
 "cells": [
  {
   "cell_type": "code",
   "execution_count": 39,
   "metadata": {},
   "outputs": [],
   "source": [
    "import numpy as np\n",
    "import pandas as pd\n",
    "from math import sin,pi,cos"
   ]
  },
  {
   "cell_type": "code",
   "execution_count": 40,
   "metadata": {},
   "outputs": [],
   "source": [
    "def monte_carlo(N,p=\"uniform\",):\n",
    "    X = []\n",
    "    if p == \"uniform\":\n",
    "        X = np.random.uniform(a,b,N)\n",
    "        return ((b-a)/N)*np.sum(np.array([g(x) for x in X]))\n",
    "    if p == \"linear\":\n",
    "        while (len(X)<N):\n",
    "            point = np.random.uniform(0,1,2)\n",
    "            x0,y0= a+point[0]*(b-a),point[1]*(4/pi)\n",
    "            if (0<=y0<=linear_p(x0)):\n",
    "                X.append(x0)\n",
    "    X = np.array(X)\n",
    "    return (1/N)*np.sum(np.array([g(x)/linear_p(x) for x in X]))"
   ]
  },
  {
   "cell_type": "code",
   "execution_count": 45,
   "metadata": {},
   "outputs": [],
   "source": [
    "def monte_carlo_square(N):\n",
    "    k=0\n",
    "    X = np.array([(np.random.uniform(a,b), np.random.uniform(0, 1)) for i in range(N)])\n",
    "    for i in range(N):\n",
    "        if X[i,1] <= g(X[i,0]):\n",
    "            k+=1\n",
    "    return (k/N)*(pi/2)"
   ]
  },
  {
   "cell_type": "code",
   "execution_count": 46,
   "metadata": {},
   "outputs": [],
   "source": [
    "def g(x):\n",
    "    return sin(x)\n",
    "\n",
    "a,b = 0,pi/2"
   ]
  },
  {
   "cell_type": "code",
   "execution_count": 47,
   "metadata": {},
   "outputs": [],
   "source": [
    "def linear_p(x):\n",
    "    return 16 * x * (pi - x) / (5*pi**2 - 4 * x * (pi - x))"
   ]
  },
  {
   "cell_type": "code",
   "execution_count": 48,
   "metadata": {},
   "outputs": [
    {
     "data": {
      "text/html": [
       "<div>\n",
       "<style scoped>\n",
       "    .dataframe tbody tr th:only-of-type {\n",
       "        vertical-align: middle;\n",
       "    }\n",
       "\n",
       "    .dataframe tbody tr th {\n",
       "        vertical-align: top;\n",
       "    }\n",
       "\n",
       "    .dataframe thead th {\n",
       "        text-align: right;\n",
       "    }\n",
       "</style>\n",
       "<table border=\"1\" class=\"dataframe\">\n",
       "  <thead>\n",
       "    <tr style=\"text-align: right;\">\n",
       "      <th></th>\n",
       "      <th>N</th>\n",
       "      <th>Равномерная плотность</th>\n",
       "      <th>Линейная плотность</th>\n",
       "      <th>Абсолютная разность площадей</th>\n",
       "    </tr>\n",
       "  </thead>\n",
       "  <tbody>\n",
       "    <tr>\n",
       "      <th>0</th>\n",
       "      <td>100.0</td>\n",
       "      <td>0.014537</td>\n",
       "      <td>0.000438</td>\n",
       "      <td>0.104646</td>\n",
       "    </tr>\n",
       "    <tr>\n",
       "      <th>1</th>\n",
       "      <td>1000.0</td>\n",
       "      <td>0.009760</td>\n",
       "      <td>0.000159</td>\n",
       "      <td>0.005686</td>\n",
       "    </tr>\n",
       "    <tr>\n",
       "      <th>2</th>\n",
       "      <td>10000.0</td>\n",
       "      <td>0.007739</td>\n",
       "      <td>0.000230</td>\n",
       "      <td>0.011279</td>\n",
       "    </tr>\n",
       "    <tr>\n",
       "      <th>3</th>\n",
       "      <td>100000.0</td>\n",
       "      <td>0.000328</td>\n",
       "      <td>0.000226</td>\n",
       "      <td>0.000188</td>\n",
       "    </tr>\n",
       "  </tbody>\n",
       "</table>\n",
       "</div>"
      ],
      "text/plain": [
       "          N  Равномерная плотность  Линейная плотность  \\\n",
       "0     100.0               0.014537            0.000438   \n",
       "1    1000.0               0.009760            0.000159   \n",
       "2   10000.0               0.007739            0.000230   \n",
       "3  100000.0               0.000328            0.000226   \n",
       "\n",
       "   Абсолютная разность площадей  \n",
       "0                      0.104646  \n",
       "1                      0.005686  \n",
       "2                      0.011279  \n",
       "3                      0.000188  "
      ]
     },
     "execution_count": 48,
     "metadata": {},
     "output_type": "execute_result"
    }
   ],
   "source": [
    "ans = pd.DataFrame(columns=[\"N\",\"Равномерная плотность\",\"Линейная плотность\",\"Абсолютная разность площадей\"])\n",
    "for i in range(2,6):\n",
    "    row = [10**(i), \n",
    "           abs(1-monte_carlo(10**(i))), \n",
    "           abs(1-monte_carlo(10**(i),\"linear\")), \n",
    "           abs(1-monte_carlo_square(10**(i)))]\n",
    "    ans = ans.append(pd.Series(row,index=ans.columns),True)\n",
    "ans"
   ]
  },
  {
   "cell_type": "code",
   "execution_count": 49,
   "metadata": {},
   "outputs": [
    {
     "data": {
      "text/plain": [
       "1.000858012358597"
      ]
     },
     "execution_count": 49,
     "metadata": {},
     "output_type": "execute_result"
    }
   ],
   "source": [
    "monte_carlo_square(1000000)"
   ]
  },
  {
   "cell_type": "code",
   "execution_count": null,
   "metadata": {},
   "outputs": [],
   "source": []
  }
 ],
 "metadata": {
  "kernelspec": {
   "display_name": "Python 3",
   "language": "python",
   "name": "python3"
  },
  "language_info": {
   "codemirror_mode": {
    "name": "ipython",
    "version": 3
   },
   "file_extension": ".py",
   "mimetype": "text/x-python",
   "name": "python",
   "nbconvert_exporter": "python",
   "pygments_lexer": "ipython3",
   "version": "3.8.3"
  }
 },
 "nbformat": 4,
 "nbformat_minor": 4
}

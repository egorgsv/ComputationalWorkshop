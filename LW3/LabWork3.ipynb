{
 "cells": [
  {
   "cell_type": "code",
   "execution_count": 5,
   "metadata": {},
   "outputs": [],
   "source": [
    "import numpy as np\n",
    "from math import sqrt"
   ]
  },
  {
   "cell_type": "code",
   "execution_count": 6,
   "metadata": {},
   "outputs": [],
   "source": [
    "# метод вращений\n",
    "def rotation(A, b):  \n",
    "    q = np.column_stack([A, b])\n",
    "    for i in range(q.shape[0] - 1):\n",
    "        for j in range(i+1, q.shape[0]):\n",
    "            c = q[i, i] / sqrt(q[i, i] ** 2 + q[j, i] ** 2)\n",
    "            s = q[j, i] / sqrt(q[i, i] ** 2 + q[j, i] ** 2)\n",
    "            tmp = q[i, :] * c + q[j, :] * s\n",
    "            q[j, :] = q[i, :] * -s + q[j, :] * c\n",
    "            q[i, :] = tmp\n",
    "    x = np.linalg.solve(q[:, :-1], q[:, -1])\n",
    "    return x"
   ]
  },
  {
   "cell_type": "code",
   "execution_count": 7,
   "metadata": {},
   "outputs": [],
   "source": [
    "#метод квадратного корня (Холецкого)\n",
    "def cholesky(A):\n",
    "    L = np.zeros((A.shape[0], A.shape[0]))\n",
    "    for i in range(A.shape[0]):\n",
    "        for j in range(i):\n",
    "            temp = 0\n",
    "            for k in range(j):\n",
    "                temp += L[i][k] * L[j][k]\n",
    "            L[i][j] = (A[i][j] - temp) / L[j][j]\n",
    "        temp = A[i][i]\n",
    "        for k in range(i):\n",
    "            temp -= L[i][k] * L[i][k]\n",
    "        L[i][i] = sqrt(temp)\n",
    "    return L          "
   ]
  },
  {
   "cell_type": "code",
   "execution_count": 8,
   "metadata": {},
   "outputs": [],
   "source": [
    "def solve(L, b):\n",
    "    y = np.linalg.solve(L, b)\n",
    "    x = np.linalg.solve(L.T, y)\n",
    "    return x"
   ]
  },
  {
   "cell_type": "code",
   "execution_count": 9,
   "metadata": {},
   "outputs": [],
   "source": [
    "def hilbert_matrix(n: int):\n",
    "    matrix = np.zeros((n, n))\n",
    "    for i in range(1, n + 1):\n",
    "        for j in range(1, n + 1):\n",
    "            matrix[i - 1][j - 1] = 1 / (i + j - 1)\n",
    "    return matrix"
   ]
  },
  {
   "cell_type": "code",
   "execution_count": 13,
   "metadata": {},
   "outputs": [
    {
     "name": "stdout",
     "output_type": "stream",
     "text": [
      "\n",
      "\n",
      "Матрица Гильберта 3 порядка:\n",
      "Метод вращений:\n",
      "||x - x_rot|| = 1.1294947886988695e-12\n",
      "Метод квадратного корня:\n",
      "||x - x_sqrt|| = 9.534652216788915e-13\n",
      "\n",
      "\n",
      "Матрица Гильберта 5 порядка:\n",
      "Метод вращений:\n",
      "||x - x_rot|| = 2.137419809119381e-09\n",
      "Метод квадратного корня:\n",
      "||x - x_sqrt|| = 1.260076336595603e-09\n",
      "\n",
      "\n",
      "Матрица Гильберта 7 порядка:\n",
      "Метод вращений:\n",
      "||x - x_rot|| = 2.3491692014153707e-07\n",
      "Метод квадратного корня:\n",
      "||x - x_sqrt|| = 1.3747772130289027e-06\n"
     ]
    }
   ],
   "source": [
    "for size in [3, 5, 7]:\n",
    "    print(\"\\n\\nМатрица Гильберта\", size, \"порядка:\")\n",
    "    A = hilbert_matrix(size)\n",
    "    x = np.random.uniform(0, 100, size=A.shape[0])\n",
    "    b = np.dot(A, x)\n",
    "    x_rot = rotation(A, b)\n",
    "    x_sqrt = solve(cholesky(A), b)\n",
    "    print(\"Метод вращений:\\n||x - x_rot|| =\", np.linalg.norm(x - x_rot))\n",
    "    print(\"Метод квадратного корня:\\n||x - x_sqrt|| =\", np.linalg.norm(x - x_sqrt))"
   ]
  },
  {
   "cell_type": "code",
   "execution_count": null,
   "metadata": {},
   "outputs": [],
   "source": []
  }
 ],
 "metadata": {
  "kernelspec": {
   "display_name": "Python 3",
   "language": "python",
   "name": "python3"
  },
  "language_info": {
   "codemirror_mode": {
    "name": "ipython",
    "version": 3
   },
   "file_extension": ".py",
   "mimetype": "text/x-python",
   "name": "python",
   "nbconvert_exporter": "python",
   "pygments_lexer": "ipython3",
   "version": "3.8.3"
  }
 },
 "nbformat": 4,
 "nbformat_minor": 4
}

{
 "cells": [
  {
   "cell_type": "code",
   "execution_count": 56,
   "metadata": {},
   "outputs": [],
   "source": [
    "import pandas as pd\n",
    "import numpy as np\n",
    "from numpy.linalg import norm, cond, solve, inv"
   ]
  },
  {
   "cell_type": "code",
   "execution_count": 57,
   "metadata": {},
   "outputs": [],
   "source": [
    "def find_coef(A, b):  \n",
    "    n = A.shape[0]\n",
    "    alpha = np.array(np.zeros((n, n)))\n",
    "    beta = np.array(np.zeros(b.shape[0]))\n",
    "    for i in range(n):\n",
    "        for j in range(n):\n",
    "            if i != j:\n",
    "                alpha[i][j] = - A[i][j] / A[i][i]\n",
    "                beta[i] = b[i] / A[i][i]\n",
    "            else:\n",
    "                alpha[i][i] = 0\n",
    "    return alpha, beta"
   ]
  },
  {
   "cell_type": "code",
   "execution_count": 58,
   "metadata": {},
   "outputs": [],
   "source": [
    "# метод простой итерации\n",
    "def iteration_method(alpha, beta, x, eps, iter=1):  \n",
    "    err = eps + 1\n",
    "    while err > eps and iter < 500:\n",
    "        err = norm(alpha@x + beta - x)\n",
    "        x = alpha@x + beta\n",
    "        iter += 1\n",
    "    x = alpha@x + beta\n",
    "    return x, iter"
   ]
  },
  {
   "cell_type": "code",
   "execution_count": 59,
   "metadata": {},
   "outputs": [],
   "source": [
    "# метод Зейделя\n",
    "def seidel_method(A, b, eps):  \n",
    "    iter = 0\n",
    "    n = A.shape[0]\n",
    "    x = np.array(np.zeros((b.shape[0])))\n",
    "    err = eps + 1\n",
    "    while err > eps:\n",
    "        x_new = x.copy()\n",
    "        for i in range(n):\n",
    "            x1 = sum(A[i][j] * x_new[j] for j in range(i))\n",
    "            x2 = sum(A[i][j] * x[j] for j in range(i + 1, n))\n",
    "            x_new[i] = (b[i] - x1 - x2)/A[i][i]\n",
    "        err = norm(x_new - x)\n",
    "        iter += 1\n",
    "        x = x_new\n",
    "    return x, iter"
   ]
  },
  {
   "cell_type": "code",
   "execution_count": 60,
   "metadata": {},
   "outputs": [],
   "source": [
    "def hilbert_matrix(n: int):\n",
    "    matrix = np.zeros((n, n))\n",
    "    for i in range(1, n + 1):\n",
    "        for j in range(1, n + 1):\n",
    "            matrix[i - 1][j - 1] = 1 / (i + j - 1)\n",
    "    return matrix"
   ]
  },
  {
   "cell_type": "code",
   "execution_count": 67,
   "metadata": {},
   "outputs": [],
   "source": [
    "equations = []\n",
    "for size in [2, 3, 4]:\n",
    "    A = hilbert_matrix(size)\n",
    "    x = np.random.uniform(0, 100, size=A.shape[0])\n",
    "    b = np.dot(A, x)\n",
    "    equations.append({'A': A, \n",
    "                   'x': x, \n",
    "                   'b': b})\n",
    "    \n",
    "A = np.array([[-400.6, 199.8],\n",
    "     [1198.8, -600.4]])\n",
    "x = np.random.uniform(0, 100, size=A.shape[0])\n",
    "b = np.dot(A, x)\n",
    "\n",
    "equations.append({\"A\": A,\n",
    "                  \"x\": x,\n",
    "                  \"b\": b})"
   ]
  },
  {
   "cell_type": "code",
   "execution_count": 68,
   "metadata": {},
   "outputs": [],
   "source": [
    "result = []\n",
    "for equation in equations:\n",
    "    A = equation['A']\n",
    "    x = equation['x']\n",
    "    b = equation['b']\n",
    "    alpha, beta = find_coef(A, b)\n",
    "    data = []\n",
    "    for eps in range(-10, 0):\n",
    "        eps = 10**eps\n",
    "        data.append({\n",
    "            'eps': eps,\n",
    "            'Метод ПИ (К-во итераций)':\n",
    "            iteration_method(alpha, beta, beta, eps)[1],\n",
    "            'Метод ПИ ||x - x_a||' : \n",
    "            norm(x - iteration_method(alpha, beta, beta, eps)[0]),\n",
    "            'Метод Зейделя (К-во итераций)':\n",
    "            seidel_method(A, b, eps)[1],\n",
    "            'Методе Зейделя ||x - x_a||' : \n",
    "            norm(x - seidel_method(A, b, eps)[0])\n",
    "        })\n",
    "    result.append(pd.DataFrame(data))\n",
    "        "
   ]
  },
  {
   "cell_type": "code",
   "execution_count": 69,
   "metadata": {},
   "outputs": [
    {
     "name": "stdout",
     "output_type": "stream",
     "text": [
      "            eps  Метод ПИ (К-во итераций)  Метод ПИ ||x - x_a||  \\\n",
      "0  1.000000e-10                       196          3.204989e-11   \n",
      "1  1.000000e-09                       180          3.201108e-10   \n",
      "2  1.000000e-08                       164          3.197484e-09   \n",
      "3  1.000000e-07                       148          3.193877e-08   \n",
      "4  1.000000e-06                       132          3.190275e-07   \n",
      "5  1.000000e-05                       116          3.186677e-06   \n",
      "6  1.000000e-04                       100          3.183083e-05   \n",
      "7  1.000000e-03                        84          3.179493e-04   \n",
      "8  1.000000e-02                        68          3.175907e-03   \n",
      "9  1.000000e-01                        52          3.172325e-02   \n",
      "\n",
      "   Метод Зейделя (К-во итераций)  Методе Зейделя ||x - x_a||  \n",
      "0                             93                2.344472e-10  \n",
      "1                             85                2.342121e-09  \n",
      "2                             77                2.339495e-08  \n",
      "3                             69                2.336858e-07  \n",
      "4                             61                2.334223e-06  \n",
      "5                             53                2.331590e-05  \n",
      "6                             45                2.328960e-04  \n",
      "7                             37                2.326333e-03  \n",
      "8                             29                2.323710e-02  \n",
      "9                             21                2.321089e-01  \n"
     ]
    }
   ],
   "source": [
    "print(result[0])"
   ]
  },
  {
   "cell_type": "code",
   "execution_count": 64,
   "metadata": {},
   "outputs": [
    {
     "name": "stdout",
     "output_type": "stream",
     "text": [
      "            eps  Метод ПИ (К-во итераций)  Метод ПИ ||x - x_a||  \\\n",
      "0  1.000000e-10                       500                   inf   \n",
      "1  1.000000e-09                       500                   inf   \n",
      "2  1.000000e-08                       500                   inf   \n",
      "3  1.000000e-07                       500                   inf   \n",
      "4  1.000000e-06                       500                   inf   \n",
      "5  1.000000e-05                       500                   inf   \n",
      "6  1.000000e-04                       500                   inf   \n",
      "7  1.000000e-03                       500                   inf   \n",
      "8  1.000000e-02                       500                   inf   \n",
      "9  1.000000e-01                       500                   inf   \n",
      "\n",
      "   Метод Зейделя (К-во итераций)  Методе Зейделя ||x - x_a||  \n",
      "0                          20261                1.029760e-07  \n",
      "1                          17889                1.029470e-06  \n",
      "2                          15517                1.029314e-05  \n",
      "3                          13145                1.029173e-04  \n",
      "4                          10773                1.029033e-03  \n",
      "5                           8401                1.028894e-02  \n",
      "6                           6029                1.028754e-01  \n",
      "7                           3656                1.029614e+00  \n",
      "8                           1284                1.029474e+01  \n",
      "9                             87                3.230364e+01  \n"
     ]
    }
   ],
   "source": [
    "print(result[1])"
   ]
  },
  {
   "cell_type": "code",
   "execution_count": 65,
   "metadata": {},
   "outputs": [
    {
     "name": "stdout",
     "output_type": "stream",
     "text": [
      "            eps  Метод ПИ (К-во итераций)  Метод ПИ ||x - x_a||  \\\n",
      "0  1.000000e-10                       500                   inf   \n",
      "1  1.000000e-09                       500                   inf   \n",
      "2  1.000000e-08                       500                   inf   \n",
      "3  1.000000e-07                       500                   inf   \n",
      "4  1.000000e-06                       500                   inf   \n",
      "5  1.000000e-05                       500                   inf   \n",
      "6  1.000000e-04                       500                   inf   \n",
      "7  1.000000e-03                       500                   inf   \n",
      "8  1.000000e-02                       500                   inf   \n",
      "9  1.000000e-01                       500                   inf   \n",
      "\n",
      "   Метод Зейделя (К-во итераций)  Методе Зейделя ||x - x_a||  \n",
      "0                         371584                    0.000002  \n",
      "1                         317194                    0.000024  \n",
      "2                         262798                    0.000236  \n",
      "3                         208401                    0.002362  \n",
      "4                         154005                    0.023623  \n",
      "5                          99608                    0.236231  \n",
      "6                          45212                    2.362264  \n",
      "7                           1849                   14.730368  \n",
      "8                            996                   14.902445  \n",
      "9                            174                   35.557236  \n"
     ]
    }
   ],
   "source": [
    "print(result[2])"
   ]
  },
  {
   "cell_type": "code",
   "execution_count": 66,
   "metadata": {},
   "outputs": [
    {
     "name": "stdout",
     "output_type": "stream",
     "text": [
      "            eps  Метод ПИ (К-во итераций)  Метод ПИ ||x - x_a||  \\\n",
      "0  1.000000e-10                       500             31.437092   \n",
      "1  1.000000e-09                       500             31.437092   \n",
      "2  1.000000e-08                       500             31.437092   \n",
      "3  1.000000e-07                       500             31.437092   \n",
      "4  1.000000e-06                       500             31.437092   \n",
      "5  1.000000e-05                       500             31.437092   \n",
      "6  1.000000e-04                       500             31.437092   \n",
      "7  1.000000e-03                       500             31.437092   \n",
      "8  1.000000e-02                       500             31.437092   \n",
      "9  1.000000e-01                       500             31.437092   \n",
      "\n",
      "   Метод Зейделя (К-во итераций)  Методе Зейделя ||x - x_a||  \n",
      "0                           5226                2.390551e-08  \n",
      "1                           4673                2.394166e-07  \n",
      "2                           4121                2.387557e-06  \n",
      "3                           3568                2.390883e-05  \n",
      "4                           3015                2.394210e-04  \n",
      "5                           2463                2.387574e-03  \n",
      "6                           1910                2.390896e-02  \n",
      "7                           1357                2.394223e-01  \n",
      "8                            805                2.387587e+00  \n",
      "9                            252                2.390909e+01  \n"
     ]
    }
   ],
   "source": [
    "print(result[3])"
   ]
  },
  {
   "cell_type": "code",
   "execution_count": null,
   "metadata": {},
   "outputs": [],
   "source": []
  },
  {
   "cell_type": "code",
   "execution_count": null,
   "metadata": {},
   "outputs": [],
   "source": []
  }
 ],
 "metadata": {
  "kernelspec": {
   "display_name": "Python 3",
   "language": "python",
   "name": "python3"
  },
  "language_info": {
   "codemirror_mode": {
    "name": "ipython",
    "version": 3
   },
   "file_extension": ".py",
   "mimetype": "text/x-python",
   "name": "python",
   "nbconvert_exporter": "python",
   "pygments_lexer": "ipython3",
   "version": "3.8.3"
  }
 },
 "nbformat": 4,
 "nbformat_minor": 4
}
